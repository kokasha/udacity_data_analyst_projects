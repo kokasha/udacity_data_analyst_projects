{
 "cells": [
  {
   "cell_type": "markdown",
   "metadata": {},
   "source": [
    "# Dictonaries"
   ]
  },
  {
   "cell_type": "code",
   "execution_count": 21,
   "metadata": {},
   "outputs": [],
   "source": [
    "dict1 = {'n_customers': 17149, 'n_subscribers': 54982, 'n_total': 123,'test':893342}\n",
    "dict1"
   ]
  },
  {
   "cell_type": "markdown",
   "metadata": {},
   "source": [
    "## Use dict to create a Dictionary"
   ]
  },
  {
   "cell_type": "code",
   "execution_count": 38,
   "metadata": {},
   "outputs": [
    {
     "name": "stdout",
     "output_type": "stream",
     "text": [
      "{'two': 2, 'one': 1, 'three': 3} {'two': 2, 'one': 1, 'three': 3} {'two': 2, 'one': 1, 'three': 3}\n"
     ]
    }
   ],
   "source": [
    "a = dict(one=1, two=2, three=3)\n",
    "c = dict(zip(['one', 'two', 'three'], [1, 2, 3]))\n",
    "d = dict([('two', 2), ('one', 1), ('three', 3)])\n",
    "\n",
    "print(a,c,d)"
   ]
  },
  {
   "cell_type": "markdown",
   "metadata": {},
   "source": [
    "### How to access Keys of a Dictonary"
   ]
  },
  {
   "cell_type": "code",
   "execution_count": 42,
   "metadata": {},
   "outputs": [
    {
     "name": "stdout",
     "output_type": "stream",
     "text": [
      "893342\n",
      "None\n"
     ]
    }
   ],
   "source": [
    "dict1 = {'n_customers': 17149, 'n_subscribers': 54982, 'n_total': 123,'test':893342}\n",
    "print(dict1.get('test'))\n",
    "print(dict1.get('test1'))"
   ]
  },
  {
   "cell_type": "markdown",
   "metadata": {},
   "source": [
    "## How to filter data in a Dictonary based on a criteria"
   ]
  },
  {
   "cell_type": "code",
   "execution_count": 91,
   "metadata": {},
   "outputs": [
    {
     "name": "stdout",
     "output_type": "stream",
     "text": [
      "{'8': 8, '5': 5, '9': 9, '1': 1, '11': 11, '14': 14, '3': 3, '15': 15, '2': 2, '4': 4, '19': 19, '16': 16, '6': 6, '17': 17, '13': 13, '12': 12, '10': 10, '18': 18, '7': 7}\n",
      "{'12': 12, '19': 19, '10': 10, '13': 13, '15': 15, '11': 11, '14': 14, '17': 17, '16': 16, '18': 18}\n"
     ]
    }
   ],
   "source": [
    "dict2 = {str(id): id for id in range(1,20)}\n",
    "print(dict2)\n",
    "dict2_filter = {k: v for k,v in dict2.items() if v >= 10}\n",
    "print(dict2_filter)"
   ]
  },
  {
   "cell_type": "markdown",
   "metadata": {},
   "source": [
    "## How to Get Maximum from a Dictionary"
   ]
  },
  {
   "cell_type": "code",
   "execution_count": 25,
   "metadata": {},
   "outputs": [
    {
     "name": "stdout",
     "output_type": "stream",
     "text": [
      "test\n"
     ]
    }
   ],
   "source": [
    "# Get the maximum element in the dictionary based on the value\n",
    "# We use a the key keyword in the max function to pass a function that return the value of each item in the dictonary\n",
    "\n",
    "max_dict1 = max(dict1,key=lambda x: dict1[x])\n",
    "print(max_dict1)"
   ]
  },
  {
   "cell_type": "code",
   "execution_count": 28,
   "metadata": {},
   "outputs": [
    {
     "name": "stdout",
     "output_type": "stream",
     "text": [
      "test\n"
     ]
    }
   ],
   "source": [
    "# Another method is using the itemgetter\n",
    "\n",
    "from operator import itemgetter\n",
    "max_dict1_2 = max(dict1,key = itemgetter(1))\n",
    "print(max_dict1_2)"
   ]
  },
  {
   "cell_type": "code",
   "execution_count": 29,
   "metadata": {},
   "outputs": [
    {
     "name": "stdout",
     "output_type": "stream",
     "text": [
      "('test', 893342)\n"
     ]
    }
   ],
   "source": [
    "# To get the Key and Value for the item with the maximum value\n",
    "max_dict1_3 = max(dict1.items(),key = itemgetter(1))\n",
    "print(max_dict1_3)"
   ]
  },
  {
   "cell_type": "markdown",
   "metadata": {},
   "source": [
    "## How to Sort data in a Dictonary"
   ]
  },
  {
   "cell_type": "code",
   "execution_count": null,
   "metadata": {},
   "outputs": [],
   "source": [
    "## Both list.sort() and sorted() have a key parameter to specify a function to be called \n",
    "## on each list element prior to making comparisons."
   ]
  },
  {
   "cell_type": "code",
   "execution_count": 64,
   "metadata": {},
   "outputs": [
    {
     "name": "stdout",
     "output_type": "stream",
     "text": [
      "debug: print dict:\n",
      " {'8': 12, '5': 15, '9': 11, '1': 19, '11': 9, '14': 6, '3': 17, '15': 5, '2': 18, '4': 16, '19': 1, '16': 4, '6': 14, '17': 3, '13': 7, '12': 8, '10': 10, '18': 2, '7': 13}\n",
      "debug: print list of a dict:\n",
      " ['8', '5', '9', '1', '11', '14', '3', '15', '2', '4', '19', '16', '6', '17', '13', '12', '10', '18', '7']\n",
      "debug: print list of a dict keys:\n",
      " ['8', '5', '9', '1', '11', '14', '3', '15', '2', '4', '19', '16', '6', '17', '13', '12', '10', '18', '7']\n"
     ]
    }
   ],
   "source": [
    "# Use Dict comprehension to create the Dict\n",
    "dict3 = {str(id): 20-id for id in range(1,20)}\n",
    "print('debug: print dict:\\n',dict3)\n",
    "print('debug: print list of a dict:\\n',list(dict3))\n",
    "print('debug: print list of a dict keys:\\n',list(dict3.keys()))"
   ]
  },
  {
   "cell_type": "markdown",
   "metadata": {},
   "source": [
    "### Sort based on Keys"
   ]
  },
  {
   "cell_type": "code",
   "execution_count": 74,
   "metadata": {},
   "outputs": [
    {
     "name": "stdout",
     "output_type": "stream",
     "text": [
      "['1', '10', '11', '12', '13', '14', '15', '16', '17', '18', '19', '2', '3', '4', '5', '6', '7', '8', '9']\n"
     ]
    }
   ],
   "source": [
    "# This will sort based on Keys however the keys are strings thus the sorting will not be correct\n",
    "# The default is to sort based on keys\n",
    "dict3_sort_keys = sorted(dict3)\n",
    "print(dict3_sort_keys)"
   ]
  },
  {
   "cell_type": "code",
   "execution_count": 84,
   "metadata": {},
   "outputs": [
    {
     "name": "stdout",
     "output_type": "stream",
     "text": [
      "['1', '2', '3', '4', '5', '6', '7', '8', '9', '10', '11', '12', '13', '14', '15', '16', '17', '18', '19']\n"
     ]
    }
   ],
   "source": [
    "dict3_sort_keys = sorted(dict3,key=lambda d: int(d))\n",
    "print(dict3_sort_keys)"
   ]
  },
  {
   "cell_type": "markdown",
   "metadata": {},
   "source": [
    "### Sort based on Values"
   ]
  },
  {
   "cell_type": "code",
   "execution_count": 85,
   "metadata": {},
   "outputs": [
    {
     "name": "stdout",
     "output_type": "stream",
     "text": [
      "['19', '18', '17', '16', '15', '14', '13', '12', '11', '10', '9', '8', '7', '6', '5', '4', '3', '2', '1']\n"
     ]
    }
   ],
   "source": [
    "dict3_sort_values = sorted(dict3,key=lambda k: dict3[k])\n",
    "print(dict3_sort_values)"
   ]
  },
  {
   "cell_type": "code",
   "execution_count": 1,
   "metadata": {},
   "outputs": [
    {
     "data": {
      "text/plain": [
       "{'Chicago': {'cust_perc': 23.77, 'subs_perc': 76.23},\n",
       " 'NYC': {'cust_perc': 11.16, 'subs_perc': 88.84},\n",
       " 'Washington': {'cust_perc': 21.97, 'subs_perc': 78.03}}"
      ]
     },
     "execution_count": 1,
     "metadata": {},
     "output_type": "execute_result"
    }
   ],
   "source": [
    "city_date = {'Chicago': {'n_customers': 17149, 'n_subscribers': 54982, 'n_total': 72131},\n",
    " 'NYC': {'n_customers': 30902, 'n_subscribers': 245896, 'n_total': 276798},\n",
    " 'Washington': {'n_customers': 14573, 'n_subscribers': 51753, 'n_total': 66326}}\n",
    "{'Chicago': {'cust_perc': 23.77, 'subs_perc': 76.23},\n",
    " 'NYC': {'cust_perc': 11.16, 'subs_perc': 88.84},\n",
    " 'Washington': {'cust_perc': 21.97, 'subs_perc': 78.03}}"
   ]
  },
  {
   "cell_type": "code",
   "execution_count": null,
   "metadata": {},
   "outputs": [],
   "source": [
    "city_date"
   ]
  }
 ],
 "metadata": {
  "kernelspec": {
   "display_name": "Python 3",
   "language": "python",
   "name": "python3"
  },
  "language_info": {
   "codemirror_mode": {
    "name": "ipython",
    "version": 3
   },
   "file_extension": ".py",
   "mimetype": "text/x-python",
   "name": "python",
   "nbconvert_exporter": "python",
   "pygments_lexer": "ipython3",
   "version": "3.5.2"
  }
 },
 "nbformat": 4,
 "nbformat_minor": 2
}
